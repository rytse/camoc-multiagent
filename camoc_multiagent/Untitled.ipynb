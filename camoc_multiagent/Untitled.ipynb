{
 "cells": [
  {
   "cell_type": "code",
   "execution_count": 3,
   "id": "7a6199cc",
   "metadata": {},
   "outputs": [],
   "source": [
    "from jax import make_jaxpr, jit\n",
    "import jax.numpy as jnp\n",
    "from jax.lax import dynamic_update_slice"
   ]
  },
  {
   "cell_type": "code",
   "execution_count": 37,
   "id": "d4ce69d4",
   "metadata": {},
   "outputs": [],
   "source": [
    "import time\n",
    "from stable_baselines3 import PPO\n",
    "import numpy as np"
   ]
  },
  {
   "cell_type": "code",
   "execution_count": 9,
   "id": "46f5978b",
   "metadata": {},
   "outputs": [],
   "source": [
    "@jit\n",
    "def test(obs, act, obs_buf, act_buf, buf_idx):\n",
    "    obs_buf = dynamic_update_slice(obs_buf, obs, (buf_idx,))\n",
    "    act_buf = dynamic_update_slice(act_buf, act, (buf_idx,))\n",
    "    return obs_buf, act_buf"
   ]
  },
  {
   "cell_type": "code",
   "execution_count": 25,
   "id": "35af7820",
   "metadata": {},
   "outputs": [],
   "source": [
    "@jit\n",
    "def _add_samples_cm(obs, act, obs_buf, act_buf, buf_idx):\n",
    "    obs_buf = dynamic_update_slice(obs_buf, obs, (buf_idx, 0))\n",
    "    act_buf = dynamic_update_slice(act_buf, act, (buf_idx, 0))\n",
    "    return obs_buf, act_buf\n"
   ]
  },
  {
   "cell_type": "code",
   "execution_count": 11,
   "id": "14777828",
   "metadata": {},
   "outputs": [
    {
     "name": "stdout",
     "output_type": "stream",
     "text": [
      "{ lambda ; a:f32[8] b:f32[8] c:f32[20] d:f32[20] e:i32[]. let\n",
      "    f:f32[20] g:f32[20] = xla_call[\n",
      "      call_jaxpr={ lambda ; h:f32[8] i:f32[8] j:f32[20] k:f32[20] l:i32[]. let\n",
      "          m:bool[] = lt l 0\n",
      "          n:i32[] = add l 20\n",
      "          o:i32[] = select m n l\n",
      "          p:f32[20] = dynamic_update_slice j h o\n",
      "          q:bool[] = lt l 0\n",
      "          r:i32[] = add l 20\n",
      "          s:i32[] = select q r l\n",
      "          t:f32[20] = dynamic_update_slice k i s\n",
      "        in (p, t) }\n",
      "      name=test\n",
      "    ] a b c d e\n",
      "  in (f, g) }\n"
     ]
    }
   ],
   "source": [
    "print(make_jaxpr(test)(jnp.zeros(8), jnp.ones(8), jnp.ones(20), jnp.ones(20), 0))"
   ]
  },
  {
   "cell_type": "code",
   "execution_count": 12,
   "id": "714a681e",
   "metadata": {},
   "outputs": [],
   "source": [
    "obs_buf = jnp.zeros(100)\n",
    "act_buf = jnp.zeros(100)"
   ]
  },
  {
   "cell_type": "code",
   "execution_count": 13,
   "id": "8d68a89f",
   "metadata": {},
   "outputs": [],
   "source": [
    "obs = jnp.ones(20)\n",
    "act = jnp.ones(20)"
   ]
  },
  {
   "cell_type": "code",
   "execution_count": 14,
   "id": "8b5c6c50",
   "metadata": {},
   "outputs": [
    {
     "data": {
      "text/plain": [
       "(DeviceArray([1., 1., 1., 1., 1., 1., 1., 1., 1., 1., 1., 1., 1., 1., 1.,\n",
       "              1., 1., 1., 1., 1., 0., 0., 0., 0., 0., 0., 0., 0., 0., 0.,\n",
       "              0., 0., 0., 0., 0., 0., 0., 0., 0., 0., 0., 0., 0., 0., 0.,\n",
       "              0., 0., 0., 0., 0., 0., 0., 0., 0., 0., 0., 0., 0., 0., 0.,\n",
       "              0., 0., 0., 0., 0., 0., 0., 0., 0., 0., 0., 0., 0., 0., 0.,\n",
       "              0., 0., 0., 0., 0., 0., 0., 0., 0., 0., 0., 0., 0., 0., 0.,\n",
       "              0., 0., 0., 0., 0., 0., 0., 0., 0., 0.], dtype=float32),\n",
       " DeviceArray([1., 1., 1., 1., 1., 1., 1., 1., 1., 1., 1., 1., 1., 1., 1.,\n",
       "              1., 1., 1., 1., 1., 0., 0., 0., 0., 0., 0., 0., 0., 0., 0.,\n",
       "              0., 0., 0., 0., 0., 0., 0., 0., 0., 0., 0., 0., 0., 0., 0.,\n",
       "              0., 0., 0., 0., 0., 0., 0., 0., 0., 0., 0., 0., 0., 0., 0.,\n",
       "              0., 0., 0., 0., 0., 0., 0., 0., 0., 0., 0., 0., 0., 0., 0.,\n",
       "              0., 0., 0., 0., 0., 0., 0., 0., 0., 0., 0., 0., 0., 0., 0.,\n",
       "              0., 0., 0., 0., 0., 0., 0., 0., 0., 0.], dtype=float32))"
      ]
     },
     "execution_count": 14,
     "metadata": {},
     "output_type": "execute_result"
    }
   ],
   "source": [
    "test(obs, act, obs_buf, act_buf, 0)"
   ]
  },
  {
   "cell_type": "code",
   "execution_count": 24,
   "id": "f660638f",
   "metadata": {},
   "outputs": [
    {
     "name": "stdout",
     "output_type": "stream",
     "text": [
      "seconds: 0.4274144172668457\n"
     ]
    }
   ],
   "source": [
    "t = time.time()\n",
    "buf_idx = 0\n",
    "for _ in range(100_000):\n",
    "    obs_buf, act_buf = test(obs, act, obs_buf, act_buf, buf_idx)\n",
    "    buf_idx += 20\n",
    "    buf_idx %= 100\n",
    "print(f\"seconds: {time.time() - t}\")"
   ]
  },
  {
   "cell_type": "code",
   "execution_count": 105,
   "id": "9a5affed",
   "metadata": {},
   "outputs": [],
   "source": [
    "from functools import partial\n",
    "class CAMOC:\n",
    "    def __init__(self):\n",
    "        obs_size = 1*2 + (9)*2\n",
    "        act_size = 2\n",
    "        prealloc_size = 1009 * 200 * 20\n",
    "        self._obs = jnp.empty((prealloc_size, obs_size))\n",
    "        self._act = jnp.empty((prealloc_size, act_size))\n",
    "        self._obs_idx = self._act_idx = 0\n",
    "    @partial(jit, static_argnums=(0,))\n",
    "    def add_samples(self, observations, actions):\n",
    "        self._obs, self._act = _add_samples_cm(observations, actions, self._obs, self._act, self._obs_idx)\n",
    "        #self._obs[self._obs_idx: self._obs_idx + observations.shape[0], :] = observations\n",
    "        #self._act[self._act_idx: self._act_idx + actions.shape[0], :] = actions\n",
    "        self._obs_idx += observations.shape[0]\n",
    "        self._act_idx += actions.shape[0]"
   ]
  },
  {
   "cell_type": "code",
   "execution_count": 106,
   "id": "b8d879d9",
   "metadata": {},
   "outputs": [],
   "source": [
    "class Container:\n",
    "    def __init__(self):\n",
    "        self.cagent = CAMOC()"
   ]
  },
  {
   "cell_type": "code",
   "execution_count": 107,
   "id": "1bc5deec",
   "metadata": {},
   "outputs": [],
   "source": [
    "cagent = Container()"
   ]
  },
  {
   "cell_type": "code",
   "execution_count": 33,
   "id": "9187ecd1",
   "metadata": {},
   "outputs": [],
   "source": [
    "model = PPO.load(\"./policies/rotator_coverage_v0_2022_01_26_23_36\")"
   ]
  },
  {
   "cell_type": "code",
   "execution_count": 34,
   "id": "ed9782a1",
   "metadata": {},
   "outputs": [
    {
     "name": "stdout",
     "output_type": "stream",
     "text": [
      "[0.15 0.15 0.15 0.15 0.15 0.15 0.15 0.15 0.15 0.15 1.  ]\n"
     ]
    },
    {
     "name": "stderr",
     "output_type": "stream",
     "text": [
      "/home/eli/anaconda3/envs/camoc/lib/python3.8/site-packages/gym/spaces/box.py:73: UserWarning: \u001b[33mWARN: Box bound precision lowered by casting to float32\u001b[0m\n",
      "  logger.warn(\n"
     ]
    }
   ],
   "source": [
    "from envs.rotator_coverage import rotator_coverage_v0\n",
    "env = rotator_coverage_v0.env_eval()"
   ]
  },
  {
   "cell_type": "code",
   "execution_count": 108,
   "id": "56401064",
   "metadata": {},
   "outputs": [
    {
     "name": "stdout",
     "output_type": "stream",
     "text": [
      "Sampling trajectory 0\n",
      "Sampling trajectory 10\n",
      "Sampling trajectory 20\n",
      "Sampling trajectory 30\n",
      "Sampling trajectory 40\n",
      "time: 25.102649211883545\n"
     ]
    }
   ],
   "source": [
    "s = time.time()\n",
    "for tidx in range(50):\n",
    "    if tidx % 10 == 0:\n",
    "        print(\"Sampling trajectory {}\".format(tidx))\n",
    "    env.reset()\n",
    "    for i, agent in enumerate(env.agent_iter()):\n",
    "        obs, reward, done, info = env.last()\n",
    "        act = model.predict(obs, deterministic=True)[0] if not done else None\n",
    "        env.step(act)\n",
    "        #print(f\"Step: {i}\")\n",
    "        if not done:\n",
    "            #pass\n",
    "            #o = np.array([obs[-20:]])\n",
    "            #a = np.array([act])\n",
    "            #print(f\"o: {o.shape} a: {a.shape}\")\n",
    "            #cagent.cagent.add_samples(jnp.asarray(np.array([obs[-20:]])), jnp.asarray(np.array([act])))\n",
    "            #x = np.array([obs[-20:]])\n",
    "            #y = np.array([act])\n",
    "            cagent.cagent.add_samples(np.array([obs[-20:]]), np.array([act]))\n",
    "print(f\"time: {time.time() - s}\")"
   ]
  },
  {
   "cell_type": "code",
   "execution_count": 51,
   "id": "ec6308c1",
   "metadata": {},
   "outputs": [],
   "source": [
    "import traceback\n",
    "# 25.577797889709473 if not: pass\n",
    "# 25.835766553878784 if not: make arrays\n",
    "# 25.788559436798096 if not: call func (which passes)\n",
    "# 24.67454433441162 if not: execute in numpy - yea wtf why is it faster\n",
    "# 25.102649211883545 if not: excute in jax"
   ]
  },
  {
   "cell_type": "code",
   "execution_count": 54,
   "id": "41b3fb54",
   "metadata": {},
   "outputs": [
    {
     "name": "stdout",
     "output_type": "stream",
     "text": [
      "Step: 0\n",
      "o: (1, 20) a: (1, 2)\n"
     ]
    }
   ],
   "source": [
    "env.reset()\n",
    "for i, agent in enumerate(env.agent_iter()):\n",
    "    obs, reward, done, info = env.last()\n",
    "    act = model.predict(obs, deterministic=True)[0] if not done else None\n",
    "    env.step(act)\n",
    "    print(f\"Step: {i}\")\n",
    "    if not done:\n",
    "        o = np.array([obs[-20:]])\n",
    "        a = np.array([act])\n",
    "        print(f\"o: {o.shape} a: {a.shape}\")\n",
    "        cagent.cagent.add_samples(jnp.asarray(np.array([obs[-20:]])), jnp.asarray(np.array([act])))\n",
    "        break"
   ]
  },
  {
   "cell_type": "code",
   "execution_count": null,
   "id": "5cd7aba3",
   "metadata": {},
   "outputs": [],
   "source": []
  }
 ],
 "metadata": {
  "kernelspec": {
   "display_name": "Python 3",
   "language": "python",
   "name": "python3"
  },
  "language_info": {
   "codemirror_mode": {
    "name": "ipython",
    "version": 3
   },
   "file_extension": ".py",
   "mimetype": "text/x-python",
   "name": "python",
   "nbconvert_exporter": "python",
   "pygments_lexer": "ipython3",
   "version": "3.8.12"
  }
 },
 "nbformat": 4,
 "nbformat_minor": 5
}
